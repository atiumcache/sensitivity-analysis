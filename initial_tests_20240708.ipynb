{
 "cells": [
  {
   "metadata": {},
   "cell_type": "markdown",
   "source": [
    "Harris Economic Order Quantity (EOQ) \n",
    "\n",
    "`y` is the optimal order quantity\n",
    "\n",
    "`m` is the units per month\n",
    "\n",
    "`s` is the setup cost of an order\n",
    "\n",
    "`c` is the unit price of items in the stock"
   ],
   "id": "5130e8adf5a03388"
  },
  {
   "cell_type": "code",
   "id": "initial_id",
   "metadata": {
    "collapsed": true,
    "ExecuteTime": {
     "end_time": "2024-07-08T14:58:56.876743Z",
     "start_time": "2024-07-08T14:58:56.871018Z"
    }
   },
   "source": [
    "from dataclasses import dataclass\n",
    "import numpy as np\n",
    "\n",
    "@dataclass\n",
    "class Inputs:\n",
    "    \"\"\"Represents a vector of model inputs.\n",
    "    \n",
    "    :attribute m: units used per month, or \"movement\" of stock\n",
    "    :attribute s: setup cost of an order\n",
    "    :attribute c: unit price of items in the stock\n",
    "    \"\"\"\n",
    "    m: float \n",
    "    c: float\n",
    "    s: float\n",
    "\n",
    "def optimal_order_quantity(x: Inputs) -> int:\n",
    "    \"\"\"\n",
    "    Economic order quantity function defined by Harris, 1990. \n",
    "    \n",
    "    The number 240 is an \"interest charge\" per unit, per month, \n",
    "    corresponding to a yearly interest rate of 10 percent.\n",
    "    \n",
    "    :param x: dataclass representing a vector of model inputs. \n",
    "    :return: optimal order quantity\n",
    "    \"\"\"\n",
    "    return np.floor(np.sqrt(240 * x.m * x.s / x.c)).astype(int)\n",
    "\n",
    "y = optimal_order_quantity(Inputs(m=100.0, s=5.0, c=1.0))\n",
    "print(y)"
   ],
   "outputs": [
    {
     "name": "stdout",
     "output_type": "stream",
     "text": [
      "346\n"
     ]
    }
   ],
   "execution_count": 14
  },
  {
   "metadata": {},
   "cell_type": "markdown",
   "source": [
    "## Sensitivity Analysis with Finite Differences\n",
    "### One-at-a-Time (OAT) Methods\n",
    "\n",
    "We assign a base case `x0` and a sensitivity case `x_plus` to the model \n",
    "inputs. \n",
    "\n",
    "We change each model input, one at a time, by 10%. Then, we compare the \n",
    "resulting delta_y outputs (one for each changed parameter). "
   ],
   "id": "fc3f0c47af870377"
  },
  {
   "metadata": {
    "ExecuteTime": {
     "end_time": "2024-07-08T15:09:49.684219Z",
     "start_time": "2024-07-08T15:09:49.677543Z"
    }
   },
   "cell_type": "code",
   "source": [
    "x0 = Inputs(m=1230, c=0.0135, s=2.15)\n",
    "y0 = optimal_order_quantity(x0)\n",
    "x_plus_m = Inputs(m=1353, c=0.0135, s=2.15)\n",
    "x_plus_s = Inputs(m=1230, c=0.01485, s=2.15)\n",
    "x_plus_c = Inputs(m=1230, c=0.0135, s=2.365)\n",
    "x_plus = Inputs(m=1353, c=0.01485, s=2.365)\n",
    "\n",
    "delta_y_m = optimal_order_quantity(x_plus_m) - y0\n",
    "delta_y_s = optimal_order_quantity(x_plus_s) - y0\n",
    "delta_y_c = optimal_order_quantity(x_plus_c) - y0\n",
    "\n",
    "deltas = [delta_y_m, delta_y_s, delta_y_c]\n",
    "print(\"Base case:\", y0)\n",
    "print(\"Changes in model output with respect to m, s, and c:\\n\", deltas)"
   ],
   "id": "72ba60a633ed529e",
   "outputs": [
    {
     "name": "stdout",
     "output_type": "stream",
     "text": [
      "Base case: 6856\n",
      "Changes in model output with respect to m, s, and c:\n",
      " [335, -319, 335]\n"
     ]
    }
   ],
   "execution_count": 21
  },
  {
   "metadata": {},
   "cell_type": "markdown",
   "source": [
    "This indicates that when `m` is increased by 10%, the model output increases\n",
    " by 335 units. When `s` is increased, the model output decreases by 319 \n",
    " units. "
   ],
   "id": "bab954fee8a4e10a"
  },
  {
   "metadata": {
    "ExecuteTime": {
     "end_time": "2024-07-08T15:11:47.195627Z",
     "start_time": "2024-07-08T15:11:47.188956Z"
    }
   },
   "cell_type": "code",
   "source": [
    "delta_y_plus = optimal_order_quantity(x_plus) - y0\n",
    "sum_of_delta = np.sum(deltas)\n",
    "\n",
    "print(\"Change in y from x0 to x_plus:\", delta_y_plus)\n",
    "print(\"Sum of individual changes:\", sum_of_delta)"
   ],
   "id": "a734029497d47b78",
   "outputs": [
    {
     "name": "stdout",
     "output_type": "stream",
     "text": [
      "Change in y from x0 to x_plus: 335\n",
      "Sum of individual changes: 351\n"
     ]
    }
   ],
   "execution_count": 24
  },
  {
   "metadata": {},
   "cell_type": "markdown",
   "source": [
    "**Note that these are not equal**. This is due to the fact that this method of \n",
    "sensitivity analysis does not take interaction effects into account. "
   ],
   "id": "b35674a679beedd7"
  },
  {
   "metadata": {},
   "cell_type": "markdown",
   "source": [
    "## Scenario Decomposition\n",
    "We start with a base case `x0`, best case `x_plus`, and worst case `x_minus`. "
   ],
   "id": "47a64264414a388d"
  },
  {
   "metadata": {},
   "cell_type": "code",
   "outputs": [],
   "execution_count": null,
   "source": "",
   "id": "fd2b95d5f037a4f7"
  }
 ],
 "metadata": {
  "kernelspec": {
   "display_name": "Python 3",
   "language": "python",
   "name": "python3"
  },
  "language_info": {
   "codemirror_mode": {
    "name": "ipython",
    "version": 2
   },
   "file_extension": ".py",
   "mimetype": "text/x-python",
   "name": "python",
   "nbconvert_exporter": "python",
   "pygments_lexer": "ipython2",
   "version": "2.7.6"
  }
 },
 "nbformat": 4,
 "nbformat_minor": 5
}
