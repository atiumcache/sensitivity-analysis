{
 "cells": [
  {
   "metadata": {},
   "cell_type": "markdown",
   "source": [
    "Harris Economic Order Quantity (EOQ) \n",
    "\n",
    "`y` is the optimal order quantity\n",
    "\n",
    "`m` is the units per month\n",
    "\n",
    "`s` is the setup cost of an order\n",
    "\n",
    "`c` is the unit price of items in the stock"
   ],
   "id": "5130e8adf5a03388"
  },
  {
   "cell_type": "code",
   "id": "initial_id",
   "metadata": {
    "collapsed": true,
    "ExecuteTime": {
     "end_time": "2024-07-08T23:08:23.305381Z",
     "start_time": "2024-07-08T23:08:22.654765Z"
    }
   },
   "source": [
    "from dataclasses import dataclass\n",
    "import jax.numpy as jnp\n",
    "\n",
    "\n",
    "def ooq(m: float, c: float, s: float) -> int:\n",
    "    \"\"\"\n",
    "    Optimal Order Quantity.\n",
    "    \n",
    "    Economic order quantity function defined by Harris, 1990. \n",
    "    \n",
    "    The number 240 is an \"interest charge\" per unit, per month, \n",
    "    corresponding to a yearly interest rate of 10 percent.\n",
    "    \n",
    "    :param x: dataclass representing a vector of model inputs. \n",
    "    :return: optimal order quantity\n",
    "    \"\"\"\n",
    "    return jnp.sqrt(240 * m * s / c)\n",
    "\n",
    "X = {'m': 100, 'c': 5, 's': 1}\n",
    "y = ooq(X['m'], X['c'], X['s'])\n",
    "print(y)"
   ],
   "outputs": [
    {
     "name": "stdout",
     "output_type": "stream",
     "text": [
      "69.282036\n"
     ]
    }
   ],
   "execution_count": 1
  },
  {
   "metadata": {},
   "cell_type": "markdown",
   "source": [
    "## Local Sensitivity Methods\n",
    "If we want to perform sensitivity analysis around some point of interest, then we are performing local analysis. This is in contrast to global analysis. \n",
    "\n",
    "These local methods include:\n",
    "- One-at-a-Time\n",
    "- Scenario Decomposition\n",
    "- Partial Differentiation"
   ],
   "id": "22c6136d7a5eec65"
  },
  {
   "metadata": {},
   "cell_type": "markdown",
   "source": [
    "\n",
    "## Sensitivity Analysis with Finite Differences\n",
    "### One-at-a-Time (OAT) Methods\n",
    "\n",
    "We assign a base case $x^0$ and a sensitivity case $x^+$ to the model \n",
    "inputs. We could also have an $x^-$ case, but that is not shown here.\n",
    "\n",
    "For $x^+$, we increase each model input, one at a time, by 10% (this is an arbitrary choice and would change with the model). For an $x^-$ case, we could then **decrease** all inputs by 10%. \n",
    "\n",
    "Then, we compare the resulting $\\Delta^+ y$ outputs (one for each changed parameter), where:\n",
    "\n",
    "$$\\Delta_i^+ y = g(x_i^+, x^0_{\\neg i}) - y^0$$ \n",
    "\n",
    "So, in our example case, we might have:\n",
    "\n",
    "$$\\Delta_m^+ y = g(m^+, c^0, s^0) - y^0$$ "
   ],
   "id": "fc3f0c47af870377"
  },
  {
   "metadata": {
    "ExecuteTime": {
     "end_time": "2024-07-09T16:11:16.768553Z",
     "start_time": "2024-07-09T16:11:16.730242Z"
    }
   },
   "cell_type": "code",
   "source": [
    " # Initial parameters                                                                                        \n",
    " x0 = {'m': 1230.0, 'c': 0.0135, 's': 2.15}                                                                    \n",
    " y0 = ooq(x0['m'], x0['c'], x0['s'])                                                      \n",
    "                                                                                                             \n",
    " # Parameters with changes                                                                                   \n",
    " x_plus_m = {'m': 1353, 'c': 0.0135, 's': 2.15}                                                              \n",
    " x_plus_s = {'m': 1230, 'c': 0.01485, 's': 2.15}                                                             \n",
    " x_plus_c = {'m': 1230, 'c': 0.0135, 's': 2.365}                                                             \n",
    " x_plus = {'m': 1353, 'c': 0.01485, 's': 2.365}                                                              \n",
    "                                                                                                             \n",
    " # Calculate changes in output                                                                               \n",
    " delta_y_m = ooq(x_plus_m['m'], x_plus_m['c'], x_plus_m['s']) - y0                        \n",
    " delta_y_s = ooq(x_plus_s['m'], x_plus_s['c'], x_plus_s['s']) - y0                        \n",
    " delta_y_c = ooq(x_plus_c['m'], x_plus_c['c'], x_plus_c['s']) - y0                        \n",
    "                                                                                                             \n",
    " # Store deltas in a list                                                                                    \n",
    " deltas = [delta_y_m, delta_y_s, delta_y_c]         \n",
    " deltas = [delta.item() for delta in deltas]\n",
    "                                                                                                             \n",
    " # Print results                                                                                             \n",
    " print(\"Base case:\", y0)                                                                                     \n",
    " print(\"Changes in model output with respect to m, s, and c:\\n\", deltas)                                     \n",
    "                                                                                "
   ],
   "id": "72ba60a633ed529e",
   "outputs": [
    {
     "name": "stdout",
     "output_type": "stream",
     "text": [
      "Base case: 6856.627\n",
      "Changes in model output with respect to m, s, and c:\n",
      " [334.6640625, -319.08984375, 334.6640625]\n"
     ]
    }
   ],
   "execution_count": 28
  },
  {
   "metadata": {},
   "cell_type": "markdown",
   "source": [
    "This indicates that when `m` is increased by 10%, the model output increases\n",
    " by 335 units. When `s` is increased, the model output decreases by 319 \n",
    " units, and so on. \n",
    " \n",
    "\n",
    "**Question:** For a Particle Filter, we can consider $\\beta$ and case counts as inputs, with the likelihood as the output. Do we have a \"best case\" and \"worst case\"? Maybe a \"maximum case\" (high beta, high case count) and a \"minimum case\" (no new cases)?\n"
   ],
   "id": "bab954fee8a4e10a"
  },
  {
   "metadata": {
    "ExecuteTime": {
     "end_time": "2024-07-08T23:08:23.386363Z",
     "start_time": "2024-07-08T23:08:23.327227Z"
    }
   },
   "cell_type": "code",
   "source": [
    "delta_y_plus = ooq(x_plus['m'], x_plus['c'], x_plus['s']) - y0\n",
    "sum_of_delta = jnp.sum(jnp.array(deltas))\n",
    "\n",
    "print(\"Change in y from x0 to x_plus:\", delta_y_plus)\n",
    "print(\"Sum of individual changes:\", sum_of_delta)"
   ],
   "id": "a734029497d47b78",
   "outputs": [
    {
     "name": "stdout",
     "output_type": "stream",
     "text": [
      "Change in y from x0 to x_plus: 334.66406\n",
      "Sum of individual changes: 350.23828\n"
     ]
    }
   ],
   "execution_count": 3
  },
  {
   "metadata": {},
   "cell_type": "markdown",
   "source": [
    "**Note that these changes are not equal**. This is due to the fact that this method of \n",
    "sensitivity analysis does not account for interaction effects between the input variables.\n",
    "\n",
    "## Visualization\n",
    "The standard way to visualize these changes is a **Tornado Diagram**. \n",
    "\n",
    "![tornado_diagram](./tornado_diagram.png)"
   ],
   "id": "b35674a679beedd7"
  },
  {
   "metadata": {},
   "cell_type": "markdown",
   "source": [
    "## Scenario Decomposition\n",
    "We start with a base case $x^0$, best case $x^+$, and worst case $x^-$.\n",
    "\n",
    "**Problem**:\n",
    "We could compare the outputs of y(x^+), y(x^0), y(x^-). However, we would not know what caused the changes from one to another. The following methods attempt to rectify this issue.\n",
    "\n",
    "We can decompose $\\Delta y = g(x^+) - g(x^0)$ by utilizing finite differences, where:\n",
    "\n",
    "$$\\delta y = \n"
   ],
   "id": "47a64264414a388d"
  },
  {
   "metadata": {
    "ExecuteTime": {
     "end_time": "2024-07-08T23:08:23.390507Z",
     "start_time": "2024-07-08T23:08:23.387761Z"
    }
   },
   "cell_type": "code",
   "source": [
    "# Initial parameters                                                                                        \n",
    "x0 = {'m': 1230.0, 'c': 0.0135, 's': 2.15}                                                                    \n",
    "y0 = ooq(x0['m'], x0['c'], x0['s'])                                                      \n",
    "                                                                                                             \n",
    "# Parameters with changes                                                                                   \n",
    "x_plus_m = {'m': 1353, 'c': 0.0135, 's': 2.15}                                                              \n",
    "x_plus_s = {'m': 1230, 'c': 0.01485, 's': 2.15}                                                             \n",
    "x_plus_c = {'m': 1230, 'c': 0.0135, 's': 2.365}                                                             \n",
    "x_plus = {'m': 1353, 'c': 0.01485, 's': 2.365}   \n",
    " "
   ],
   "id": "fd2b95d5f037a4f7",
   "outputs": [],
   "execution_count": 3
  },
  {
   "metadata": {
    "ExecuteTime": {
     "end_time": "2024-07-09T17:37:26.880029Z",
     "start_time": "2024-07-09T17:37:26.871026Z"
    }
   },
   "cell_type": "code",
   "source": [
    "import itertools\n",
    "\n",
    "\n",
    "# Helper function to call ooq with a dictionary of parameters\n",
    "def g(params):\n",
    "    return ooq(params['m'], params['c'], params['s'])\n",
    "\n",
    "\n",
    "# Calculate phi recursively\n",
    "def calculate_phi(x_plus, x0, g):\n",
    "    all_keys = list(x_plus.keys())\n",
    "    n = len(all_keys)\n",
    "    \n",
    "    def recursive_phi(keys):\n",
    "        if not keys:\n",
    "            return g(x0)\n",
    "        current_key = keys[0]\n",
    "        rest_keys = keys[1:]\n",
    "\n",
    "        # Calculate g with all rest keys in x_plus and current_key in x0\n",
    "        params_rest = {key: x_plus[key] if key not in keys else x0[key] for key in all_keys}\n",
    "        phi_rest = recursive_phi(rest_keys)\n",
    "\n",
    "        # Calculate g with all keys in x_plus\n",
    "        params_all_plus = {key: x_plus[key] for key in all_keys}\n",
    "        phi_all_plus = g(params_all_plus)\n",
    "\n",
    "        # Calculate all lower order phi terms if rest_keys is not empty\n",
    "        lower_order_phis = 0\n",
    "        if len(rest_keys) > 0:\n",
    "            lower_order_phis = sum(recursive_phi(subset) for subset in itertools.combinations(rest_keys, len(rest_keys) - 1))\n",
    "\n",
    "        return phi_all_plus - phi_rest - lower_order_phis\n",
    "\n",
    "    phi_terms = {}\n",
    "    for i in range(1, n + 1):\n",
    "        for subset in itertools.combinations(all_keys, i):\n",
    "            phi_terms[subset] = recursive_phi(list(subset))\n",
    "\n",
    "    return phi_terms"
   ],
   "id": "27fc641da0c61992",
   "outputs": [],
   "execution_count": 40
  },
  {
   "metadata": {
    "ExecuteTime": {
     "end_time": "2024-07-09T17:37:27.908863Z",
     "start_time": "2024-07-09T17:37:27.710870Z"
    }
   },
   "cell_type": "code",
   "source": "calculate_phi(x_plus, x0, g)",
   "id": "621b85fc9949c367",
   "outputs": [
    {
     "data": {
      "text/plain": [
       "{('m',): Array(334.66406, dtype=float32, weak_type=True),\n",
       " ('c',): Array(334.66406, dtype=float32, weak_type=True),\n",
       " ('s',): Array(334.66406, dtype=float32, weak_type=True),\n",
       " ('m', 'c'): Array(0., dtype=float32, weak_type=True),\n",
       " ('m', 's'): Array(0., dtype=float32, weak_type=True),\n",
       " ('c', 's'): Array(0., dtype=float32, weak_type=True),\n",
       " ('m', 'c', 's'): Array(6521.963, dtype=float32, weak_type=True)}"
      ]
     },
     "execution_count": 41,
     "metadata": {},
     "output_type": "execute_result"
    }
   ],
   "execution_count": 41
  },
  {
   "metadata": {},
   "cell_type": "markdown",
   "source": [
    "Computational cost is $2^n$, which is not feasible as the number of inputs $n$ grows.\n",
    "\n",
    "For a large number of inputs, the author recommends computing the first order ($\\Phi_i$), total order ($\\Phi_i^T$), and interaction ($\\Phi_i^I$) sensitivity indices. This has a computational cost of $2n+2$. \n",
    "\n",
    "$$\\Phi_i^T = \\Phi_i + \\sum_{j=1}^{n - 1}\\Phi_{i,j} + ... + \\Phi_{1,2,...,n}$$\n",
    "$$\\Phi_i^I = \\Phi_i^T - \\Phi_i$$"
   ],
   "id": "d07856fa254be945"
  },
  {
   "metadata": {},
   "cell_type": "markdown",
   "source": "## Differentiation-based Methods\n",
   "id": "b3a0f6551d399352"
  },
  {
   "metadata": {
    "ExecuteTime": {
     "end_time": "2024-07-08T23:08:23.568056Z",
     "start_time": "2024-07-08T23:08:23.393387Z"
    }
   },
   "cell_type": "code",
   "source": [
    "import jax \n",
    "import jax.numpy as jnp\n",
    "\n",
    "df_dm = jax.grad(ooq, argnums=0)(x0['m'], x0['c'], x0['s'])\n",
    "print(df_dm)"
   ],
   "id": "d2ecfd8e8eff1b7b",
   "outputs": [
    {
     "name": "stdout",
     "output_type": "stream",
     "text": [
      "2.7872467\n"
     ]
    }
   ],
   "execution_count": 4
  },
  {
   "metadata": {
    "ExecuteTime": {
     "end_time": "2024-07-08T23:08:33.555200Z",
     "start_time": "2024-07-08T23:08:33.546322Z"
    }
   },
   "cell_type": "code",
   "source": [
    "df_dc = jax.grad(ooq, argnums=1)(x0['m'], x0['c'], x0['s'])\n",
    "print(df_dc)"
   ],
   "id": "441edab6e186954d",
   "outputs": [
    {
     "name": "stdout",
     "output_type": "stream",
     "text": [
      "-253949.12\n"
     ]
    }
   ],
   "execution_count": 6
  },
  {
   "metadata": {
    "ExecuteTime": {
     "end_time": "2024-07-08T23:09:01.472556Z",
     "start_time": "2024-07-08T23:09:01.438298Z"
    }
   },
   "cell_type": "code",
   "source": [
    "df_ds = jax.grad(ooq, argnums=2)(x0['m'], x0['c'], x0['s'])\n",
    "print(df_ds)"
   ],
   "id": "96c74656c76c90f3",
   "outputs": [
    {
     "name": "stdout",
     "output_type": "stream",
     "text": [
      "1594.5643\n"
     ]
    }
   ],
   "execution_count": 7
  },
  {
   "metadata": {},
   "cell_type": "markdown",
   "source": [
    "Partial derivatives themselves are not comparable, because they are denominated in different units. \n",
    "\n",
    "Thus, we define the Differential Importance Measure, $D_i$, which indicates the DIM of the variable $x_i$ in our input vector. \n",
    "\n",
    "The **elasticity** of $x_i$, denoted $E_i$, is an intermediate calculation. We multiply by $x_i^0$ to cancel out the difference in units between each $x_i$.\n",
    "\n",
    "$$E_i = \\frac{\\partial g(x^0)}{\\partial x_i} \\frac{x_i^0}{g(x^0)}$$\n",
    "\n",
    "$$D_i = \\frac{E_i}{\\sum_{j=1}^n E_j}$$"
   ],
   "id": "ad816dcca05ced2e"
  },
  {
   "metadata": {
    "ExecuteTime": {
     "end_time": "2024-07-08T23:21:26.399486Z",
     "start_time": "2024-07-08T23:21:26.389600Z"
    }
   },
   "cell_type": "code",
   "source": [
    "from typing import Callable\n",
    "\n",
    "def elasticity(x: dict, func: Callable) -> float:\n",
    "    y0 = func(x['m'], x['c'], x['s'])\n",
    "    inputs = x['m'], x['c'], x['s']\n",
    "    elasticities = []\n",
    "    for i, input in enumerate(inputs):\n",
    "        partial = jax.grad(func, argnums=i)(x['m'], x['c'], x['s'])\n",
    "        elasticities.append(partial * input / y0)\n",
    "    return jnp.array(elasticities)"
   ],
   "id": "7713fd9be16b7b7a",
   "outputs": [],
   "execution_count": 15
  },
  {
   "metadata": {
    "ExecuteTime": {
     "end_time": "2024-07-08T23:21:30.913430Z",
     "start_time": "2024-07-08T23:21:30.890518Z"
    }
   },
   "cell_type": "code",
   "source": "elastics = elasticity(x0, ooq)",
   "id": "4add74048af5d10e",
   "outputs": [],
   "execution_count": 17
  },
  {
   "metadata": {
    "ExecuteTime": {
     "end_time": "2024-07-08T23:22:05.075911Z",
     "start_time": "2024-07-08T23:22:05.069737Z"
    }
   },
   "cell_type": "code",
   "source": [
    "from jax.typing import ArrayLike\n",
    "\n",
    "def diff_importance(elasticities: ArrayLike) -> ArrayLike:\n",
    "    return jnp.round(elasticities / jnp.sum(elasticities), 3)"
   ],
   "id": "eecd266f2d603090",
   "outputs": [],
   "execution_count": 26
  },
  {
   "metadata": {
    "ExecuteTime": {
     "end_time": "2024-07-08T23:22:05.378322Z",
     "start_time": "2024-07-08T23:22:05.346791Z"
    }
   },
   "cell_type": "code",
   "source": "diff_importance(elastics)",
   "id": "d322b4cd642c3e",
   "outputs": [
    {
     "data": {
      "text/plain": [
       "Array([ 1., -1.,  1.], dtype=float32)"
      ]
     },
     "execution_count": 27,
     "metadata": {},
     "output_type": "execute_result"
    }
   ],
   "execution_count": 27
  },
  {
   "metadata": {},
   "cell_type": "markdown",
   "source": [
    "We find that the Differential Importance Measures of each variable have the same magnitude, with $x_2$ having an opposite effect as the other two inputs.\n",
    "\n",
    "Additivity is a convenient property of DIM. We see that if we change $x_1$ and $x_2$ at the same rate, the effect on the output is 0.  "
   ],
   "id": "359d2f1ca982451d"
  },
  {
   "metadata": {
    "ExecuteTime": {
     "end_time": "2024-07-09T15:48:16.227151Z",
     "start_time": "2024-07-09T15:48:16.216833Z"
    }
   },
   "cell_type": "code",
   "source": "",
   "id": "dbdd6d73b57dd166",
   "outputs": [],
   "execution_count": 27
  },
  {
   "metadata": {},
   "cell_type": "code",
   "outputs": [],
   "execution_count": null,
   "source": "",
   "id": "89524193c6a5efa0"
  }
 ],
 "metadata": {
  "kernelspec": {
   "display_name": "Python 3",
   "language": "python",
   "name": "python3"
  },
  "language_info": {
   "codemirror_mode": {
    "name": "ipython",
    "version": 2
   },
   "file_extension": ".py",
   "mimetype": "text/x-python",
   "name": "python",
   "nbconvert_exporter": "python",
   "pygments_lexer": "ipython2",
   "version": "2.7.6"
  }
 },
 "nbformat": 4,
 "nbformat_minor": 5
}
