{
 "cells": [
  {
   "metadata": {},
   "cell_type": "markdown",
   "source": [
    "Harris Economic Order Quantity (EOQ) \n",
    "\n",
    "`y` is the optimal order quantity\n",
    "\n",
    "`m` is the units per month\n",
    "\n",
    "`s` is the setup cost of an order\n",
    "\n",
    "`c` is the unit price of items in the stock"
   ],
   "id": "5130e8adf5a03388"
  },
  {
   "cell_type": "code",
   "id": "initial_id",
   "metadata": {
    "collapsed": true,
    "ExecuteTime": {
     "end_time": "2024-07-08T23:08:23.305381Z",
     "start_time": "2024-07-08T23:08:22.654765Z"
    }
   },
   "source": [
    "from dataclasses import dataclass\n",
    "import jax.numpy as jnp\n",
    "\n",
    "\n",
    "def ooq(m: float, c: float, s: float) -> int:\n",
    "    \"\"\"\n",
    "    Optimal Order Quantity.\n",
    "    \n",
    "    Economic order quantity function defined by Harris, 1990. \n",
    "    \n",
    "    The number 240 is an \"interest charge\" per unit, per month, \n",
    "    corresponding to a yearly interest rate of 10 percent.\n",
    "    \n",
    "    :param x: dataclass representing a vector of model inputs. \n",
    "    :return: optimal order quantity\n",
    "    \"\"\"\n",
    "    return jnp.sqrt(240 * m * s / c)\n",
    "\n",
    "X = {'m': 100, 'c': 5, 's': 1}\n",
    "y = ooq(X['m'], X['c'], X['s'])\n",
    "print(y)"
   ],
   "outputs": [
    {
     "name": "stdout",
     "output_type": "stream",
     "text": [
      "69.282036\n"
     ]
    }
   ],
   "execution_count": 1
  },
  {
   "metadata": {},
   "cell_type": "markdown",
   "source": [
    "## Sensitivity Analysis with Finite Differences\n",
    "### One-at-a-Time (OAT) Methods\n",
    "\n",
    "We assign a base case `x0` and a sensitivity case `x_plus` to the model \n",
    "inputs. \n",
    "\n",
    "We change each model input, one at a time, by 10%. Then, we compare the \n",
    "resulting delta_y outputs (one for each changed parameter). "
   ],
   "id": "fc3f0c47af870377"
  },
  {
   "metadata": {
    "ExecuteTime": {
     "end_time": "2024-07-08T23:08:23.325778Z",
     "start_time": "2024-07-08T23:08:23.307096Z"
    }
   },
   "cell_type": "code",
   "source": [
    " # Initial parameters                                                                                        \n",
    " x0 = {'m': 1230.0, 'c': 0.0135, 's': 2.15}                                                                    \n",
    " y0 = ooq(x0['m'], x0['c'], x0['s'])                                                      \n",
    "                                                                                                             \n",
    " # Parameters with changes                                                                                   \n",
    " x_plus_m = {'m': 1353, 'c': 0.0135, 's': 2.15}                                                              \n",
    " x_plus_s = {'m': 1230, 'c': 0.01485, 's': 2.15}                                                             \n",
    " x_plus_c = {'m': 1230, 'c': 0.0135, 's': 2.365}                                                             \n",
    " x_plus = {'m': 1353, 'c': 0.01485, 's': 2.365}                                                              \n",
    "                                                                                                             \n",
    " # Calculate changes in output                                                                               \n",
    " delta_y_m = ooq(x_plus_m['m'], x_plus_m['c'], x_plus_m['s']) - y0                        \n",
    " delta_y_s = ooq(x_plus_s['m'], x_plus_s['c'], x_plus_s['s']) - y0                        \n",
    " delta_y_c = ooq(x_plus_c['m'], x_plus_c['c'], x_plus_c['s']) - y0                        \n",
    "                                                                                                             \n",
    " # Store deltas in a list                                                                                    \n",
    " deltas = [delta_y_m, delta_y_s, delta_y_c]                                                                  \n",
    "                                                                                                             \n",
    " # Print results                                                                                             \n",
    " print(\"Base case:\", y0)                                                                                     \n",
    " print(\"Changes in model output with respect to m, s, and c:\\n\", deltas)                                     \n",
    "                                                                                "
   ],
   "id": "72ba60a633ed529e",
   "outputs": [
    {
     "name": "stdout",
     "output_type": "stream",
     "text": [
      "Base case: 6856.627\n",
      "Changes in model output with respect to m, s, and c:\n",
      " [Array(334.66406, dtype=float32, weak_type=True), Array(-319.08984, dtype=float32, weak_type=True), Array(334.66406, dtype=float32, weak_type=True)]\n"
     ]
    }
   ],
   "execution_count": 2
  },
  {
   "metadata": {},
   "cell_type": "markdown",
   "source": [
    "This indicates that when `m` is increased by 10%, the model output increases\n",
    " by 335 units. When `s` is increased, the model output decreases by 319 \n",
    " units, and so on. "
   ],
   "id": "bab954fee8a4e10a"
  },
  {
   "metadata": {
    "ExecuteTime": {
     "end_time": "2024-07-08T23:08:23.386363Z",
     "start_time": "2024-07-08T23:08:23.327227Z"
    }
   },
   "cell_type": "code",
   "source": [
    "delta_y_plus = ooq(x_plus['m'], x_plus['c'], x_plus['s']) - y0\n",
    "sum_of_delta = jnp.sum(jnp.array(deltas))\n",
    "\n",
    "print(\"Change in y from x0 to x_plus:\", delta_y_plus)\n",
    "print(\"Sum of individual changes:\", sum_of_delta)"
   ],
   "id": "a734029497d47b78",
   "outputs": [
    {
     "name": "stdout",
     "output_type": "stream",
     "text": [
      "Change in y from x0 to x_plus: 334.66406\n",
      "Sum of individual changes: 350.23828\n"
     ]
    }
   ],
   "execution_count": 3
  },
  {
   "metadata": {},
   "cell_type": "markdown",
   "source": [
    "**Note that these are not equal**. This is due to the fact that this method of \n",
    "sensitivity analysis does not take interaction effects into account. "
   ],
   "id": "b35674a679beedd7"
  },
  {
   "metadata": {},
   "cell_type": "markdown",
   "source": [
    "## Scenario Decomposition\n",
    "We start with a base case `x0`, best case `x_plus`, and worst case `x_minus`. "
   ],
   "id": "47a64264414a388d"
  },
  {
   "metadata": {
    "ExecuteTime": {
     "end_time": "2024-07-08T23:08:23.390507Z",
     "start_time": "2024-07-08T23:08:23.387761Z"
    }
   },
   "cell_type": "code",
   "source": "",
   "id": "fd2b95d5f037a4f7",
   "outputs": [],
   "execution_count": 3
  },
  {
   "metadata": {},
   "cell_type": "markdown",
   "source": "## Differentiation-based Methods\n",
   "id": "b3a0f6551d399352"
  },
  {
   "metadata": {
    "ExecuteTime": {
     "end_time": "2024-07-08T23:08:23.568056Z",
     "start_time": "2024-07-08T23:08:23.393387Z"
    }
   },
   "cell_type": "code",
   "source": [
    "import jax \n",
    "import jax.numpy as jnp\n",
    "\n",
    "df_dm = jax.grad(ooq, argnums=0)(x0['m'], x0['c'], x0['s'])\n",
    "print(df_dm)"
   ],
   "id": "d2ecfd8e8eff1b7b",
   "outputs": [
    {
     "name": "stdout",
     "output_type": "stream",
     "text": [
      "2.7872467\n"
     ]
    }
   ],
   "execution_count": 4
  },
  {
   "metadata": {
    "ExecuteTime": {
     "end_time": "2024-07-08T23:08:33.555200Z",
     "start_time": "2024-07-08T23:08:33.546322Z"
    }
   },
   "cell_type": "code",
   "source": [
    "df_dc = jax.grad(ooq, argnums=1)(x0['m'], x0['c'], x0['s'])\n",
    "print(df_dc)"
   ],
   "id": "441edab6e186954d",
   "outputs": [
    {
     "name": "stdout",
     "output_type": "stream",
     "text": [
      "-253949.12\n"
     ]
    }
   ],
   "execution_count": 6
  },
  {
   "metadata": {
    "ExecuteTime": {
     "end_time": "2024-07-08T23:09:01.472556Z",
     "start_time": "2024-07-08T23:09:01.438298Z"
    }
   },
   "cell_type": "code",
   "source": [
    "df_ds = jax.grad(ooq, argnums=2)(x0['m'], x0['c'], x0['s'])\n",
    "print(df_ds)"
   ],
   "id": "96c74656c76c90f3",
   "outputs": [
    {
     "name": "stdout",
     "output_type": "stream",
     "text": [
      "1594.5643\n"
     ]
    }
   ],
   "execution_count": 7
  },
  {
   "metadata": {},
   "cell_type": "markdown",
   "source": [
    "Partial derivatives are not comparable, because they are denominated in different units. \n",
    "\n",
    "Thus, we define the Differential Importance Measure, D_i, which indicates the DIM of the variable x_i in our input vector. \n",
    "\n",
    "The elasticity of x_i, denoted E_i, is an intermediate calculation. \n",
    "\n",
    "D_i = E_i / \\sum_{j=1}^n E_j, or D_i = E_i / (sum of all elasticities). "
   ],
   "id": "ad816dcca05ced2e"
  },
  {
   "metadata": {
    "ExecuteTime": {
     "end_time": "2024-07-08T23:21:26.399486Z",
     "start_time": "2024-07-08T23:21:26.389600Z"
    }
   },
   "cell_type": "code",
   "source": [
    "from typing import Callable\n",
    "\n",
    "def elasticity(x: dict, func: Callable) -> float:\n",
    "    y0 = func(x['m'], x['c'], x['s'])\n",
    "    inputs = x['m'], x['c'], x['s']\n",
    "    elasticities = []\n",
    "    for i, input in enumerate(inputs):\n",
    "        partial = jax.grad(func, argnums=i)(x['m'], x['c'], x['s'])\n",
    "        elasticities.append(partial * input / y0)\n",
    "    return jnp.array(elasticities)"
   ],
   "id": "7713fd9be16b7b7a",
   "outputs": [],
   "execution_count": 15
  },
  {
   "metadata": {
    "ExecuteTime": {
     "end_time": "2024-07-08T23:21:30.913430Z",
     "start_time": "2024-07-08T23:21:30.890518Z"
    }
   },
   "cell_type": "code",
   "source": "elastic = elasticity(x0, ooq)",
   "id": "4add74048af5d10e",
   "outputs": [],
   "execution_count": 17
  },
  {
   "metadata": {
    "ExecuteTime": {
     "end_time": "2024-07-08T23:22:05.075911Z",
     "start_time": "2024-07-08T23:22:05.069737Z"
    }
   },
   "cell_type": "code",
   "source": [
    "from jax.typing import ArrayLike\n",
    "\n",
    "def diff_importance(elasticities: ArrayLike) -> ArrayLike:\n",
    "    return jnp.round(elasticities / jnp.sum(elasticities), 3)"
   ],
   "id": "eecd266f2d603090",
   "outputs": [],
   "execution_count": 26
  },
  {
   "metadata": {
    "ExecuteTime": {
     "end_time": "2024-07-08T23:22:05.378322Z",
     "start_time": "2024-07-08T23:22:05.346791Z"
    }
   },
   "cell_type": "code",
   "source": "diff_importance(elastic)",
   "id": "d322b4cd642c3e",
   "outputs": [
    {
     "data": {
      "text/plain": [
       "Array([ 1., -1.,  1.], dtype=float32)"
      ]
     },
     "execution_count": 27,
     "metadata": {},
     "output_type": "execute_result"
    }
   ],
   "execution_count": 27
  },
  {
   "metadata": {},
   "cell_type": "markdown",
   "source": "We find that the Differential Importance Measures of each variable have the same magnitude, with x_2 having an opposite effect as the other two inputs. ",
   "id": "359d2f1ca982451d"
  },
  {
   "metadata": {},
   "cell_type": "code",
   "outputs": [],
   "execution_count": null,
   "source": "",
   "id": "dbdd6d73b57dd166"
  }
 ],
 "metadata": {
  "kernelspec": {
   "display_name": "Python 3",
   "language": "python",
   "name": "python3"
  },
  "language_info": {
   "codemirror_mode": {
    "name": "ipython",
    "version": 2
   },
   "file_extension": ".py",
   "mimetype": "text/x-python",
   "name": "python",
   "nbconvert_exporter": "python",
   "pygments_lexer": "ipython2",
   "version": "2.7.6"
  }
 },
 "nbformat": 4,
 "nbformat_minor": 5
}
