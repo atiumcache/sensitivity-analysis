{
 "cells": [
  {
   "metadata": {},
   "cell_type": "markdown",
   "source": [
    "# Sensitivity Analysis Methods\n",
    "#### **Andrew Attilio**\n",
    "#### **2024.07.11**\n",
    "\n",
    "These notes are synthesized from \"Sensitvity analysis: A review of recent advances\" by E. Borgonovo and E. Plischke. \n",
    "\n",
    "### Motivation\n",
    "\n",
    "The authors provide some inspirational quotes from past research in sensitivity analysis, such as:\n",
    "\n",
    "- “In order for the analysis to be useful it must provide information concerning the way in which our equilibrium quantities will change as a result of changes in the parameters.\"\n",
    "- “The judicious application of sensitivity analysis techniques appears to be the key ingredient needed to draw out the maximum capabilities of mathematical modeling.”\n",
    "\n",
    "### Our Goals / Potential Application\n",
    "\n",
    "\"A crucial step for a meaningful sensitivity analysis is the clear statement of the insights that we wish to obtain from the model.\"\n",
    "\n",
    "Determine the effect of $\\beta$, case counts, or other parameters on our likelihood function. This information can be used at each time step to alter our forecasts or change our model.\n",
    "\n",
    "The gradient-based methods could also be utilized to send our perturbations in the correct direction to maximize likelihood.\n",
    "\n",
    "### Harris Economic Order Quantity\n",
    "\n",
    "Throught this notebook, we use the author's example model, the Harris Economic Order Quantity (EOQ):\n",
    "\n",
    "$$y = \\sqrt{\\frac{240MS}{C}}$$\n",
    "\n",
    "`y` is the optimal order quantity\n",
    "\n",
    "`m` is the units per month\n",
    "\n",
    "`s` is the setup cost of an order\n",
    "\n",
    "`c` is the unit price of items in the stock\n"
   ],
   "id": "5130e8adf5a03388"
  },
  {
   "cell_type": "code",
   "id": "initial_id",
   "metadata": {
    "collapsed": true,
    "ExecuteTime": {
     "end_time": "2024-07-11T16:19:23.084252Z",
     "start_time": "2024-07-11T16:19:22.252336Z"
    }
   },
   "source": [
    "from dataclasses import dataclass\n",
    "import jax.numpy as jnp\n",
    "\n",
    "\n",
    "def eoq(m: float, c: float, s: float) -> float:\n",
    "    \"\"\"\n",
    "    Economic order quantity function defined by Harris, 1990. \n",
    "    \n",
    "    The number 240 is an \"interest charge\" per unit, per month, \n",
    "    corresponding to a yearly interest rate of 10 percent.\n",
    "    \n",
    "    :param x: dataclass representing a vector of model inputs. \n",
    "    :return: optimal order quantity\n",
    "    \"\"\"\n",
    "    return jnp.sqrt(240 * m * s / c)\n",
    "\n",
    "X = {'m': 100, 'c': 5, 's': 1}\n",
    "y = eoq(X['m'], X['c'], X['s'])\n",
    "print(y)"
   ],
   "outputs": [
    {
     "name": "stdout",
     "output_type": "stream",
     "text": [
      "69.282036\n"
     ]
    }
   ],
   "execution_count": 1
  },
  {
   "metadata": {},
   "cell_type": "markdown",
   "source": [
    "## Local Sensitivity Methods\n",
    "If we want to perform sensitivity analysis around some point of interest, \n",
    "then we are performing local analysis. This is in contrast to global \n",
    "or probabilistic analysis. \n",
    "\n",
    "These local methods include:\n",
    "- One-at-a-Time\n",
    "- Scenario Decomposition\n",
    "- Partial Differentiation"
   ],
   "id": "22c6136d7a5eec65"
  },
  {
   "metadata": {},
   "cell_type": "markdown",
   "source": [
    "\n",
    "## Sensitivity Analysis with Finite Differences\n",
    "### One-at-a-Time (OAT) Methods\n",
    "\n",
    "We assign a base case $x^0$ and a sensitivity case $x^+$ to the model \n",
    "inputs. We could also have an $x^-$ case, but that is not shown here.\n",
    "\n",
    "For $x^+$, we increase each model input, one at a time, by 10% (this is an arbitrary choice and would change with the model). For an $x^-$ case, we could then **decrease** all inputs by 10%. \n",
    "\n",
    "Then, we compare the resulting $\\Delta^+ y$ outputs (one for each changed parameter), where:\n",
    "\n",
    "$$\\Delta_i^+ y = g(x_i^+, x^0_{\\neg i}) - y^0$$ \n",
    "\n",
    "So, in our example case, we might have:\n",
    "\n",
    "$$\\Delta_m^+ y = g(m^+, c^0, s^0) - y^0$$ "
   ],
   "id": "fc3f0c47af870377"
  },
  {
   "metadata": {
    "ExecuteTime": {
     "end_time": "2024-07-11T16:19:23.117366Z",
     "start_time": "2024-07-11T16:19:23.088263Z"
    }
   },
   "cell_type": "code",
   "source": [
    "# Initial parameters                                                                                        \n",
    "x0 = {'m': 1230.0, 'c': 0.0135, 's': 2.15}                                                                    \n",
    "y0 = eoq(x0['m'], x0['c'], x0['s'])                                                      \n",
    "                                                                                                             \n",
    "# Parameters with changes                                                                                   \n",
    "x_plus = {'m': 1353, 'c': 0.01485, 's': 2.365}                                                              \n",
    "                                                                                                             \n",
    "# Calculate changes in output                                                                               \n",
    "delta_y_m = eoq(x_plus['m'], x0['c'], x0['s']) - y0\n",
    "delta_y_c = eoq(x0['m'], x_plus['c'], x0['s']) - y0\n",
    "delta_y_s = eoq(x0['m'], x0['c'], x_plus['s']) - y0                \n",
    "                                                                                                             \n",
    "# Store deltas in a list                                                                                    \n",
    "deltas = [delta_y_m, delta_y_c, delta_y_s]         \n",
    "deltas = [delta.item() for delta in deltas]\n",
    "                                                                                                             \n",
    "# Print results                                                                                             \n",
    "print(\"Base case:\", y0)                                                                                     \n",
    "print(\"Changes in model output with respect to m, c, and s:\\n\", deltas)     \n",
    "\n",
    "                                                                                "
   ],
   "id": "72ba60a633ed529e",
   "outputs": [
    {
     "name": "stdout",
     "output_type": "stream",
     "text": [
      "Base case: 6856.627\n",
      "Changes in model output with respect to m, c, and s:\n",
      " [334.6640625, -319.08984375, 334.6640625]\n"
     ]
    }
   ],
   "execution_count": 2
  },
  {
   "metadata": {},
   "cell_type": "markdown",
   "source": [
    "This indicates that when `m` is increased by 10%, the model output increases\n",
    " by 335 units. When `c` is increased, the model output decreases by 319 \n",
    " units, and so on. \n",
    " \n",
    "\n",
    "#### Question: \n",
    "For a Particle Filter, we can consider $\\beta$ and case counts\n",
    " as inputs, with the likelihood as the output. Do we have a \"best case\" and \"worst case\"? Maybe a \"maximum case\" (high beta, high case count) and a \"minimum case\" (no new cases)?\n"
   ],
   "id": "bab954fee8a4e10a"
  },
  {
   "metadata": {
    "ExecuteTime": {
     "end_time": "2024-07-11T16:19:23.152575Z",
     "start_time": "2024-07-11T16:19:23.118558Z"
    }
   },
   "cell_type": "code",
   "source": [
    "delta_y_plus = eoq(x_plus['m'], x_plus['c'], x_plus['s']) - y0\n",
    "sum_of_delta = jnp.sum(jnp.array(deltas))\n",
    "\n",
    "print(\"Change in y from x0 to x_plus:\", delta_y_plus)\n",
    "print(\"Sum of individual changes:\", sum_of_delta)"
   ],
   "id": "a734029497d47b78",
   "outputs": [
    {
     "name": "stdout",
     "output_type": "stream",
     "text": [
      "Change in y from x0 to x_plus: 334.66406\n",
      "Sum of individual changes: 350.23828\n"
     ]
    }
   ],
   "execution_count": 3
  },
  {
   "metadata": {},
   "cell_type": "markdown",
   "source": [
    "**Note that these changes are not equal**. This is due to the fact that this method of \n",
    "sensitivity analysis does not account for interaction effects between the input variables.\n",
    "\n",
    "## Visualization\n",
    "The standard way to visualize these OAT changes is a **Tornado Diagram**. \n",
    "\n",
    "![tornado_diagram](./tornado_diagram.png)"
   ],
   "id": "b35674a679beedd7"
  },
  {
   "metadata": {},
   "cell_type": "markdown",
   "source": [
    "## Scenario Decomposition\n",
    "We start with a base case $x^0$, best case $x^+$, and worst case $x^-$.\n",
    "\n",
    "**Problem**:\n",
    "We could compare the outputs of $y(x^+)$, $y(x^0)$, $y(x^-)$. However, we would not know what caused the changes from one to another. The following methods attempt to rectify this issue.\n",
    "\n",
    "We can decompose $\\Delta y = g(x^+) - g(x^0)$ by utilizing finite differences, where:\n",
    "\n",
    "$$\\Delta y = \\sum_{i=1}^{n} \\Phi_i + \\sum_{i<j} \\Phi_{i,j} + ... + \\Phi_{1,\n",
    "2,...n}$$\n",
    "\n",
    "And where:\n",
    "\n",
    "\\begin{align}\n",
    "\\Phi_i &= \\Delta_i^+ y \\\\\n",
    "\\Phi_{i,j} &= \\Delta_{i,j}^+ y - \\Phi_i - \\Phi_j \\\\\n",
    "\\Phi_{i,j,k} &= \\Delta_{i,j,k}^+ y - \\Phi_{i, j} \\Phi_{i, k} - \\Phi_{j,k} -\n",
    "\\Phi_i - \\Phi_j - \\Phi_k \\\\\n",
    "...\n",
    "\\end{align}\n",
    "\n",
    "So, $\\Phi_i$ is just the one-at-a-time change in $y$ with respect to $x_i$. \n",
    "And $\\Phi_{i, j}$ is an interaction effect from simultaneous change in $i$ and \n",
    "$j$.  \n"
   ],
   "id": "47a64264414a388d"
  },
  {
   "metadata": {
    "ExecuteTime": {
     "end_time": "2024-07-11T16:19:23.158937Z",
     "start_time": "2024-07-11T16:19:23.155308Z"
    }
   },
   "cell_type": "code",
   "source": [
    "# Initial parameters                                                                                        \n",
    "x0 = {'m': 1230.0, 'c': 0.0135, 's': 2.15}                                                                    \n",
    "y0 = eoq(x0['m'], x0['c'], x0['s'])                                                      \n",
    "                                                                                                             \n",
    "# Parameters with changes                                                                                   \n",
    "x_plus = {'m': 1353, 'c': 0.01485, 's': 2.365}   \n",
    " "
   ],
   "id": "fd2b95d5f037a4f7",
   "outputs": [],
   "execution_count": 4
  },
  {
   "metadata": {
    "ExecuteTime": {
     "end_time": "2024-07-11T16:19:23.170423Z",
     "start_time": "2024-07-11T16:19:23.160190Z"
    }
   },
   "cell_type": "code",
   "source": [
    "# Calculate singleton phi                                    \n",
    "# We are basically renaming earlier calculations here.\n",
    "phi_m = eoq(x_plus['m'], x0['c'], x0['s']) - y0\n",
    "phi_c = eoq(x0['m'], x_plus['c'], x0['s']) - y0\n",
    "phi_s = eoq(x0['m'], x0['c'], x_plus['s']) - y0 \n",
    "print(\"Phi m:\", phi_m)\n",
    "print(\"Phi c:\", phi_c)\n",
    "print(\"Phi s:\", phi_s)"
   ],
   "id": "36d1d488985dab6d",
   "outputs": [
    {
     "name": "stdout",
     "output_type": "stream",
     "text": [
      "Phi m: 334.66406\n",
      "Phi c: -319.08984\n",
      "Phi s: 334.66406\n"
     ]
    }
   ],
   "execution_count": 5
  },
  {
   "metadata": {
    "ExecuteTime": {
     "end_time": "2024-07-11T16:19:23.182921Z",
     "start_time": "2024-07-11T16:19:23.171937Z"
    }
   },
   "cell_type": "code",
   "source": [
    "# Second order phis\n",
    "phi_mc = eoq(x_plus['m'], x_plus['c'], x0['s']) - y0 - phi_m - phi_c\n",
    "phi_ms = eoq(x_plus['m'], x0['c'], x_plus['s']) - y0 - phi_m - phi_s\n",
    "phi_cs = eoq(x_plus['m'], x_plus['c'], x0['s']) - y0 - phi_c - phi_s\n",
    "print(\"Phi mc:\", phi_mc)\n",
    "print(\"Phi cs:\", phi_cs)\n",
    "print(\"Phi ms:\", phi_ms)"
   ],
   "id": "27fc641da0c61992",
   "outputs": [
    {
     "name": "stdout",
     "output_type": "stream",
     "text": [
      "Phi mc: -15.574219\n",
      "Phi cs: -15.574219\n",
      "Phi ms: 16.334473\n"
     ]
    }
   ],
   "execution_count": 6
  },
  {
   "metadata": {
    "ExecuteTime": {
     "end_time": "2024-07-11T16:19:23.192890Z",
     "start_time": "2024-07-11T16:19:23.184652Z"
    }
   },
   "cell_type": "code",
   "source": [
    "# Third order phi\n",
    "phi_mcs = (eoq(x_plus['m'], x_plus['c'], x_plus['s']) - y0 - phi_mc - phi_cs\n",
    "           - phi_ms - phi_c - phi_m - phi_s)\n",
    "print(\"Phi mcs:\", phi_mcs)"
   ],
   "id": "85c1322036eb4b60",
   "outputs": [
    {
     "name": "stdout",
     "output_type": "stream",
     "text": [
      "Phi mcs: -0.7602539\n"
     ]
    }
   ],
   "execution_count": 7
  },
  {
   "metadata": {},
   "cell_type": "markdown",
   "source": [
    "Computational cost is $2^n$, which is not feasible as the number of inputs $n$ grows.\n",
    "\n",
    "For a large number of inputs, the author recommends computing the first order ($\\Phi_i$), total order ($\\Phi_i^T$), and interaction ($\\Phi_i^I$) sensitivity indices. This has a computational cost of $2n+2$. \n",
    "\n",
    "$$\\Phi_i^T = \\Phi_i + \\sum_{j=1}^{n - 1}\\Phi_{i,j} + ... + \\Phi_{1,2,...,n}$$\n",
    "$$\\Phi_i^I = \\Phi_i^T - \\Phi_i$$\n",
    "\n",
    "The interaction indicator $\\Phi_i^I$ tells us how some input $x_i$ interacts with the \n",
    "remaining model inputs. "
   ],
   "id": "d07856fa254be945"
  },
  {
   "metadata": {},
   "cell_type": "markdown",
   "source": "## Differentiation-based Methods\n",
   "id": "b3a0f6551d399352"
  },
  {
   "metadata": {
    "ExecuteTime": {
     "end_time": "2024-07-11T16:19:23.323290Z",
     "start_time": "2024-07-11T16:19:23.194197Z"
    }
   },
   "cell_type": "code",
   "source": [
    "import jax \n",
    "import jax.numpy as jnp\n",
    "\n",
    "df_dm = jax.grad(eoq, argnums=0)(x0['m'], x0['c'], x0['s'])\n",
    "print('Partial with respect to m:', df_dm)"
   ],
   "id": "d2ecfd8e8eff1b7b",
   "outputs": [
    {
     "name": "stdout",
     "output_type": "stream",
     "text": [
      "Partial with respect to m: 2.7872467\n"
     ]
    }
   ],
   "execution_count": 8
  },
  {
   "metadata": {
    "ExecuteTime": {
     "end_time": "2024-07-11T16:19:23.364583Z",
     "start_time": "2024-07-11T16:19:23.324821Z"
    }
   },
   "cell_type": "code",
   "source": [
    "df_dc = jax.grad(eoq, argnums=1)(x0['m'], x0['c'], x0['s'])\n",
    "print('Partial with respect to c:', df_dc)"
   ],
   "id": "441edab6e186954d",
   "outputs": [
    {
     "name": "stdout",
     "output_type": "stream",
     "text": [
      "Partial with respect to c: -253949.12\n"
     ]
    }
   ],
   "execution_count": 9
  },
  {
   "metadata": {
    "ExecuteTime": {
     "end_time": "2024-07-11T16:19:23.399880Z",
     "start_time": "2024-07-11T16:19:23.368063Z"
    }
   },
   "cell_type": "code",
   "source": [
    "df_ds = jax.grad(eoq, argnums=2)(x0['m'], x0['c'], x0['s'])\n",
    "print('Partial with respect to s:', df_ds)"
   ],
   "id": "96c74656c76c90f3",
   "outputs": [
    {
     "name": "stdout",
     "output_type": "stream",
     "text": [
      "Partial with respect to s: 1594.5643\n"
     ]
    }
   ],
   "execution_count": 10
  },
  {
   "metadata": {},
   "cell_type": "markdown",
   "source": [
    "We might assume that `c` has by far the biggest effect on our output. \n",
    "\n",
    "However, the partial derivatives themselves are not comparable, because they are denominated in different units. Recall that `c` is a unit price, while `m` is units per month.\n",
    "\n",
    "Thus, we define the Differential Importance Measure, $D_i$, which indicates the DIM of the variable $x_i$ in our input vector. \n",
    "\n",
    "The **elasticity** of $x_i$, denoted $E_i$, is an intermediate calculation. We multiply by $x_i^0$ to cancel out the difference in units between each $x_i$.\n",
    "\n",
    "$$E_i = \\frac{\\partial g(x^0)}{\\partial x_i} \\frac{x_i^0}{g(x^0)}$$\n",
    "\n",
    "$$D_i = \\frac{E_i}{\\sum_{j=1}^n E_j}$$"
   ],
   "id": "ad816dcca05ced2e"
  },
  {
   "metadata": {
    "ExecuteTime": {
     "end_time": "2024-07-11T16:19:23.405194Z",
     "start_time": "2024-07-11T16:19:23.401082Z"
    }
   },
   "cell_type": "code",
   "source": [
    "from typing import Callable\n",
    "\n",
    "def elasticity(x: dict, func: Callable) -> jnp.ndarray:\n",
    "    y0 = func(x['m'], x['c'], x['s'])\n",
    "    inputs = x['m'], x['c'], x['s']\n",
    "    elasticities = []\n",
    "    for i, input in enumerate(inputs):\n",
    "        partial = jax.grad(func, argnums=i)(x['m'], x['c'], x['s'])\n",
    "        elasticities.append(partial * input / y0)\n",
    "    return jnp.array(elasticities)"
   ],
   "id": "7713fd9be16b7b7a",
   "outputs": [],
   "execution_count": 11
  },
  {
   "metadata": {
    "ExecuteTime": {
     "end_time": "2024-07-11T16:19:23.496693Z",
     "start_time": "2024-07-11T16:19:23.406815Z"
    }
   },
   "cell_type": "code",
   "source": "elastics = elasticity(x0, eoq)",
   "id": "4add74048af5d10e",
   "outputs": [],
   "execution_count": 12
  },
  {
   "metadata": {
    "ExecuteTime": {
     "end_time": "2024-07-11T16:19:23.502451Z",
     "start_time": "2024-07-11T16:19:23.498644Z"
    }
   },
   "cell_type": "code",
   "source": [
    "from jax.typing import ArrayLike\n",
    "\n",
    "def diff_importance(elasticities: ArrayLike) -> ArrayLike:\n",
    "    return jnp.round(elasticities / jnp.sum(elasticities), 3)"
   ],
   "id": "eecd266f2d603090",
   "outputs": [],
   "execution_count": 13
  },
  {
   "metadata": {
    "ExecuteTime": {
     "end_time": "2024-07-11T16:19:23.551064Z",
     "start_time": "2024-07-11T16:19:23.504508Z"
    }
   },
   "cell_type": "code",
   "source": "diff_importance(elastics)",
   "id": "d322b4cd642c3e",
   "outputs": [
    {
     "data": {
      "text/plain": [
       "Array([ 1., -1.,  1.], dtype=float32)"
      ]
     },
     "execution_count": 14,
     "metadata": {},
     "output_type": "execute_result"
    }
   ],
   "execution_count": 14
  },
  {
   "metadata": {},
   "cell_type": "markdown",
   "source": [
    "We find that the Differential Importance Measures of each variable have the same magnitude, with $x_2$ having an opposite effect as the other two inputs.\n",
    "\n",
    "Additivity is a convenient property of DIM. We see that if we change $x_1$ and $x_2$ at the same rate, the effect on the output is 0.  \n",
    "\n",
    "**Partial derivatives and DIM do not account for interactions.** \n",
    "\n",
    "To account for interactions in differentiation-based sensitivity analysis, \n",
    "higher-order derivatives and 'joint reliability\n",
    " measures' could be used. "
   ],
   "id": "359d2f1ca982451d"
  },
  {
   "metadata": {},
   "cell_type": "markdown",
   "source": [
    "### Other Methods -- Global Sensitivity\n",
    "The above is a brief overview of local sensitivity methods. Probability-based global methods are outlined in the paper and could be a topic for further research. "
   ],
   "id": "67d56770910342e"
  }
 ],
 "metadata": {
  "kernelspec": {
   "display_name": "Python 3",
   "language": "python",
   "name": "python3"
  },
  "language_info": {
   "codemirror_mode": {
    "name": "ipython",
    "version": 2
   },
   "file_extension": ".py",
   "mimetype": "text/x-python",
   "name": "python",
   "nbconvert_exporter": "python",
   "pygments_lexer": "ipython2",
   "version": "2.7.6"
  }
 },
 "nbformat": 4,
 "nbformat_minor": 5
}
